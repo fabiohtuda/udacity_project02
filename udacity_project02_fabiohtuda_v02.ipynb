{
 "cells": [
  {
   "cell_type": "markdown",
   "metadata": {},
   "source": [
    "# Projeto 02:"
   ]
  },
  {
   "cell_type": "markdown",
   "metadata": {},
   "source": [
    "## 1) Getting Started"
   ]
  },
  {
   "cell_type": "markdown",
   "metadata": {},
   "source": [
    "## Introdução\n",
    "\n",
    "Esse relatório faz parte do projeto de conclusão de Fundamentos de Data Science I da Udacity. Esse projeto tem o objetivo de analisar um conjunto de dados demográficos e outras informações relativas de 891 das 2.224 pessoas a bordo do Titanic.\n",
    "\n",
    "O RMS Titanic foi um navio de passageiros britânico operado pela White Star Line e construído pelos estaleiros da Harland and Wolff em Belfast. Foi a segunda embarcação da Classe Olympic de transatlânticos depois do RMS Olympic e seguido pelo HMHS Britannic. Projetado pelos engenheiros navais Alexander Carlisle e Thomas Andrews, sua construção começou em março de 1909 e ele foi lançado ao mar em maio de 1911. O Titanic foi pensado para ser o navio mais luxuoso e mais seguro de sua época, gerando lendas que era supostamente \"inafundável\".\n",
    "\n",
    "A embarcação partiu em sua viagem inaugural de Southampton para Nova Iorque em 10 de abril de 1912, no caminho passando em Cherbourg-Octeville na França e por Queenstown na Irlanda. Ele colidiu com um iceberg às 23h40min do dia 14 de abril e afundou na madrugada do dia seguinte com mais de 1 500 pessoas a bordo, sendo um dos maiores desastres marítimos em tempos de paz de toda a história. Seu naufrágio destacou vários pontos fracos de seu projeto, deficiências nos procedimentos de evacuação de emergência e falhas nas regulamentações marítimas da época. Comissões de inquérito foram instauradas nos Estados Unidos e no Reino Unido, levando a mudanças nas leis internacionais de navegação que permanecem em vigor mais de um século depois.\n",
    "\n",
    "\n",
    "source: https://pt.wikipedia.org/wiki/RMS_Titanic\n",
    "\n",
    "#### Origem da base:\n",
    "\n",
    "O dataset é oriundo do site do Kaggle, a maior comunidade de Data Scientists e Machine Learners.\n",
    "\n",
    "Link: https://www.kaggle.com/c/titanic/data\n",
    "\n",
    "#### Descrição das variáveis do dataset:\n",
    "\n",
    "Para nos auxiliar na interpretação do dataset, é possível verificar a legenda dos dados:\n",
    "- Survived: Outcome of survival (0 = No; 1 = Yes)\n",
    "- Pclass: Socio-economic class (1 = Upper class; 2 = Middle class; 3 = Lower class)\n",
    "- Name: Name of passenger\n",
    "- Sex: Sex of the passenger\n",
    "- Age: Age of the passenger (Some entries contain NaN)\n",
    "- SibSp: Number of siblings and spouses of the passenger aboard\n",
    "- Parch: Number of parents and children of the passenger aboard\n",
    "- Ticket: Ticket number of the passenger\n",
    "- Fare: Fare paid by the passenger\n",
    "- Cabin: Cabin number of the passenger (Some entries contain NaN)\n",
    "- Embarked: Port of embarkation of the passenger (C = Cherbourg; Q = Queenstown; S = Southampton)\n",
    "\n",
    "#### Perguntas:\n",
    "\n",
    "A partir dessas informações, é possível realizar alguns brainstormings sobre o acontecimento como:\n",
    "- Quantos passageiros sobreviveram?\n",
    "- Qual era a idade média? Qual era a idade do mais novo e do mais velho a sobreviver?\n",
    "- Qual era o valor médio gasto em passagens dos sobreviventes?\n",
    "- Mais mulheres ou homens sobreviveram ao acidente?\n",
    "- Qual o percentual de sobreviventes por gênero?\n",
    "- Qual o percentual de sobreviventes por classe social?\n",
    "- Qual o percentual de sobreviventes por porto de embarque?\n",
    "- Qual o percentual de sobreviventes que viajaram sozinhas e/ou com família?\n",
    "- Qual a média de idade dos sobreviventes?\n",
    "- De qual porto houve o maior número de passageiros?\n",
    "- Qual o valor médio gasto por sexo, classe social e porto de embarque?\n",
    "- Qual o % de sobrevivência entre crianças e adolescentes, adultos e idosos?\n",
    "- Qual é a idade média dos sobreviventes por porto?"
   ]
  },
  {
   "cell_type": "markdown",
   "metadata": {},
   "source": [
    "Importando as bibliotecas:"
   ]
  },
  {
   "cell_type": "code",
   "execution_count": 1,
   "metadata": {},
   "outputs": [],
   "source": [
    "import pandas as pd\n",
    "import numpy as np\n",
    "import matplotlib.pyplot as plt\n",
    "% matplotlib inline \n",
    "import seaborn as sns"
   ]
  },
  {
   "cell_type": "markdown",
   "metadata": {},
   "source": [
    "Carregando o dataset:"
   ]
  },
  {
   "cell_type": "code",
   "execution_count": 2,
   "metadata": {},
   "outputs": [],
   "source": [
    "df_titanic = pd.read_csv('titanic-data-6.csv')"
   ]
  },
  {
   "cell_type": "markdown",
   "metadata": {},
   "source": [
    "Imprimindo as primeiras linhas para verificar a organização dos dados"
   ]
  },
  {
   "cell_type": "code",
   "execution_count": 3,
   "metadata": {},
   "outputs": [
    {
     "data": {
      "text/html": [
       "<div>\n",
       "<style scoped>\n",
       "    .dataframe tbody tr th:only-of-type {\n",
       "        vertical-align: middle;\n",
       "    }\n",
       "\n",
       "    .dataframe tbody tr th {\n",
       "        vertical-align: top;\n",
       "    }\n",
       "\n",
       "    .dataframe thead th {\n",
       "        text-align: right;\n",
       "    }\n",
       "</style>\n",
       "<table border=\"1\" class=\"dataframe\">\n",
       "  <thead>\n",
       "    <tr style=\"text-align: right;\">\n",
       "      <th></th>\n",
       "      <th>PassengerId</th>\n",
       "      <th>Survived</th>\n",
       "      <th>Pclass</th>\n",
       "      <th>Name</th>\n",
       "      <th>Sex</th>\n",
       "      <th>Age</th>\n",
       "      <th>SibSp</th>\n",
       "      <th>Parch</th>\n",
       "      <th>Ticket</th>\n",
       "      <th>Fare</th>\n",
       "      <th>Cabin</th>\n",
       "      <th>Embarked</th>\n",
       "    </tr>\n",
       "  </thead>\n",
       "  <tbody>\n",
       "    <tr>\n",
       "      <th>0</th>\n",
       "      <td>1</td>\n",
       "      <td>0</td>\n",
       "      <td>3</td>\n",
       "      <td>Braund, Mr. Owen Harris</td>\n",
       "      <td>male</td>\n",
       "      <td>22.0</td>\n",
       "      <td>1</td>\n",
       "      <td>0</td>\n",
       "      <td>A/5 21171</td>\n",
       "      <td>7.2500</td>\n",
       "      <td>NaN</td>\n",
       "      <td>S</td>\n",
       "    </tr>\n",
       "    <tr>\n",
       "      <th>1</th>\n",
       "      <td>2</td>\n",
       "      <td>1</td>\n",
       "      <td>1</td>\n",
       "      <td>Cumings, Mrs. John Bradley (Florence Briggs Th...</td>\n",
       "      <td>female</td>\n",
       "      <td>38.0</td>\n",
       "      <td>1</td>\n",
       "      <td>0</td>\n",
       "      <td>PC 17599</td>\n",
       "      <td>71.2833</td>\n",
       "      <td>C85</td>\n",
       "      <td>C</td>\n",
       "    </tr>\n",
       "    <tr>\n",
       "      <th>2</th>\n",
       "      <td>3</td>\n",
       "      <td>1</td>\n",
       "      <td>3</td>\n",
       "      <td>Heikkinen, Miss. Laina</td>\n",
       "      <td>female</td>\n",
       "      <td>26.0</td>\n",
       "      <td>0</td>\n",
       "      <td>0</td>\n",
       "      <td>STON/O2. 3101282</td>\n",
       "      <td>7.9250</td>\n",
       "      <td>NaN</td>\n",
       "      <td>S</td>\n",
       "    </tr>\n",
       "    <tr>\n",
       "      <th>3</th>\n",
       "      <td>4</td>\n",
       "      <td>1</td>\n",
       "      <td>1</td>\n",
       "      <td>Futrelle, Mrs. Jacques Heath (Lily May Peel)</td>\n",
       "      <td>female</td>\n",
       "      <td>35.0</td>\n",
       "      <td>1</td>\n",
       "      <td>0</td>\n",
       "      <td>113803</td>\n",
       "      <td>53.1000</td>\n",
       "      <td>C123</td>\n",
       "      <td>S</td>\n",
       "    </tr>\n",
       "    <tr>\n",
       "      <th>4</th>\n",
       "      <td>5</td>\n",
       "      <td>0</td>\n",
       "      <td>3</td>\n",
       "      <td>Allen, Mr. William Henry</td>\n",
       "      <td>male</td>\n",
       "      <td>35.0</td>\n",
       "      <td>0</td>\n",
       "      <td>0</td>\n",
       "      <td>373450</td>\n",
       "      <td>8.0500</td>\n",
       "      <td>NaN</td>\n",
       "      <td>S</td>\n",
       "    </tr>\n",
       "  </tbody>\n",
       "</table>\n",
       "</div>"
      ],
      "text/plain": [
       "   PassengerId  Survived  Pclass  \\\n",
       "0            1         0       3   \n",
       "1            2         1       1   \n",
       "2            3         1       3   \n",
       "3            4         1       1   \n",
       "4            5         0       3   \n",
       "\n",
       "                                                Name     Sex   Age  SibSp  \\\n",
       "0                            Braund, Mr. Owen Harris    male  22.0      1   \n",
       "1  Cumings, Mrs. John Bradley (Florence Briggs Th...  female  38.0      1   \n",
       "2                             Heikkinen, Miss. Laina  female  26.0      0   \n",
       "3       Futrelle, Mrs. Jacques Heath (Lily May Peel)  female  35.0      1   \n",
       "4                           Allen, Mr. William Henry    male  35.0      0   \n",
       "\n",
       "   Parch            Ticket     Fare Cabin Embarked  \n",
       "0      0         A/5 21171   7.2500   NaN        S  \n",
       "1      0          PC 17599  71.2833   C85        C  \n",
       "2      0  STON/O2. 3101282   7.9250   NaN        S  \n",
       "3      0            113803  53.1000  C123        S  \n",
       "4      0            373450   8.0500   NaN        S  "
      ]
     },
     "execution_count": 3,
     "metadata": {},
     "output_type": "execute_result"
    }
   ],
   "source": [
    "df_titanic.head() "
   ]
  },
  {
   "cell_type": "markdown",
   "metadata": {},
   "source": [
    "## 2) Data Wrangling"
   ]
  },
  {
   "cell_type": "markdown",
   "metadata": {},
   "source": [
    "#### Avaliando dados:\n",
    "- número de amostras e colunas no conjunto de dados\n",
    "- recursos com valores faltantes\n",
    "- linhas duplicadas no conjunto de dados sobre vinho branco\n",
    "- informações gerais"
   ]
  },
  {
   "cell_type": "markdown",
   "metadata": {},
   "source": [
    "Verificando n de linhas e colunas:"
   ]
  },
  {
   "cell_type": "code",
   "execution_count": 4,
   "metadata": {
    "scrolled": true
   },
   "outputs": [
    {
     "data": {
      "text/plain": [
       "(891, 12)"
      ]
     },
     "execution_count": 4,
     "metadata": {},
     "output_type": "execute_result"
    }
   ],
   "source": [
    "df_titanic.shape "
   ]
  },
  {
   "cell_type": "markdown",
   "metadata": {},
   "source": [
    "Verificando se possui linhas sem registro e quais são os tipos de objeto das colunas:"
   ]
  },
  {
   "cell_type": "code",
   "execution_count": 5,
   "metadata": {
    "scrolled": true
   },
   "outputs": [
    {
     "name": "stdout",
     "output_type": "stream",
     "text": [
      "<class 'pandas.core.frame.DataFrame'>\n",
      "RangeIndex: 891 entries, 0 to 890\n",
      "Data columns (total 12 columns):\n",
      "PassengerId    891 non-null int64\n",
      "Survived       891 non-null int64\n",
      "Pclass         891 non-null int64\n",
      "Name           891 non-null object\n",
      "Sex            891 non-null object\n",
      "Age            714 non-null float64\n",
      "SibSp          891 non-null int64\n",
      "Parch          891 non-null int64\n",
      "Ticket         891 non-null object\n",
      "Fare           891 non-null float64\n",
      "Cabin          204 non-null object\n",
      "Embarked       889 non-null object\n",
      "dtypes: float64(2), int64(5), object(5)\n",
      "memory usage: 83.6+ KB\n"
     ]
    }
   ],
   "source": [
    "df_titanic.info() "
   ]
  },
  {
   "cell_type": "markdown",
   "metadata": {},
   "source": [
    "Foi possível verificar que 'Age', 'Cabin' e 'Embarked' possuem registros vazios. Vamos analisar a quantidade de dados nulos ou faltantes em 'Age', 'Cabin' e 'Embarked':"
   ]
  },
  {
   "cell_type": "code",
   "execution_count": 6,
   "metadata": {},
   "outputs": [
    {
     "data": {
      "text/plain": [
       "PassengerId      0\n",
       "Survived         0\n",
       "Pclass           0\n",
       "Name             0\n",
       "Sex              0\n",
       "Age            177\n",
       "SibSp            0\n",
       "Parch            0\n",
       "Ticket           0\n",
       "Fare             0\n",
       "Cabin          687\n",
       "Embarked         2\n",
       "dtype: int64"
      ]
     },
     "execution_count": 6,
     "metadata": {},
     "output_type": "execute_result"
    }
   ],
   "source": [
    "df_titanic.isnull().sum()  "
   ]
  },
  {
   "cell_type": "markdown",
   "metadata": {},
   "source": [
    "Caso fosse necessário completar os registros sem valores com o valor médio do 'Age', poderíamos seguir dessa forma: \n",
    "- ex: df_titanic['Age'].fillna(df_titanic['Age'].mean(), inplace=True)"
   ]
  },
  {
   "cell_type": "markdown",
   "metadata": {},
   "source": [
    "Verificando se há registros duplicados:"
   ]
  },
  {
   "cell_type": "code",
   "execution_count": 7,
   "metadata": {},
   "outputs": [
    {
     "data": {
      "text/plain": [
       "0"
      ]
     },
     "execution_count": 7,
     "metadata": {},
     "output_type": "execute_result"
    }
   ],
   "source": [
    "sum(df_titanic.duplicated()) "
   ]
  },
  {
   "cell_type": "markdown",
   "metadata": {},
   "source": [
    "Verificando algumas análises sobre o dataset"
   ]
  },
  {
   "cell_type": "code",
   "execution_count": 8,
   "metadata": {},
   "outputs": [
    {
     "data": {
      "text/html": [
       "<div>\n",
       "<style scoped>\n",
       "    .dataframe tbody tr th:only-of-type {\n",
       "        vertical-align: middle;\n",
       "    }\n",
       "\n",
       "    .dataframe tbody tr th {\n",
       "        vertical-align: top;\n",
       "    }\n",
       "\n",
       "    .dataframe thead th {\n",
       "        text-align: right;\n",
       "    }\n",
       "</style>\n",
       "<table border=\"1\" class=\"dataframe\">\n",
       "  <thead>\n",
       "    <tr style=\"text-align: right;\">\n",
       "      <th></th>\n",
       "      <th>PassengerId</th>\n",
       "      <th>Survived</th>\n",
       "      <th>Pclass</th>\n",
       "      <th>Age</th>\n",
       "      <th>SibSp</th>\n",
       "      <th>Parch</th>\n",
       "      <th>Fare</th>\n",
       "    </tr>\n",
       "  </thead>\n",
       "  <tbody>\n",
       "    <tr>\n",
       "      <th>count</th>\n",
       "      <td>891.000000</td>\n",
       "      <td>891.000000</td>\n",
       "      <td>891.000000</td>\n",
       "      <td>714.000000</td>\n",
       "      <td>891.000000</td>\n",
       "      <td>891.000000</td>\n",
       "      <td>891.000000</td>\n",
       "    </tr>\n",
       "    <tr>\n",
       "      <th>mean</th>\n",
       "      <td>446.000000</td>\n",
       "      <td>0.383838</td>\n",
       "      <td>2.308642</td>\n",
       "      <td>29.699118</td>\n",
       "      <td>0.523008</td>\n",
       "      <td>0.381594</td>\n",
       "      <td>32.204208</td>\n",
       "    </tr>\n",
       "    <tr>\n",
       "      <th>std</th>\n",
       "      <td>257.353842</td>\n",
       "      <td>0.486592</td>\n",
       "      <td>0.836071</td>\n",
       "      <td>14.526497</td>\n",
       "      <td>1.102743</td>\n",
       "      <td>0.806057</td>\n",
       "      <td>49.693429</td>\n",
       "    </tr>\n",
       "    <tr>\n",
       "      <th>min</th>\n",
       "      <td>1.000000</td>\n",
       "      <td>0.000000</td>\n",
       "      <td>1.000000</td>\n",
       "      <td>0.420000</td>\n",
       "      <td>0.000000</td>\n",
       "      <td>0.000000</td>\n",
       "      <td>0.000000</td>\n",
       "    </tr>\n",
       "    <tr>\n",
       "      <th>25%</th>\n",
       "      <td>223.500000</td>\n",
       "      <td>0.000000</td>\n",
       "      <td>2.000000</td>\n",
       "      <td>20.125000</td>\n",
       "      <td>0.000000</td>\n",
       "      <td>0.000000</td>\n",
       "      <td>7.910400</td>\n",
       "    </tr>\n",
       "    <tr>\n",
       "      <th>50%</th>\n",
       "      <td>446.000000</td>\n",
       "      <td>0.000000</td>\n",
       "      <td>3.000000</td>\n",
       "      <td>28.000000</td>\n",
       "      <td>0.000000</td>\n",
       "      <td>0.000000</td>\n",
       "      <td>14.454200</td>\n",
       "    </tr>\n",
       "    <tr>\n",
       "      <th>75%</th>\n",
       "      <td>668.500000</td>\n",
       "      <td>1.000000</td>\n",
       "      <td>3.000000</td>\n",
       "      <td>38.000000</td>\n",
       "      <td>1.000000</td>\n",
       "      <td>0.000000</td>\n",
       "      <td>31.000000</td>\n",
       "    </tr>\n",
       "    <tr>\n",
       "      <th>max</th>\n",
       "      <td>891.000000</td>\n",
       "      <td>1.000000</td>\n",
       "      <td>3.000000</td>\n",
       "      <td>80.000000</td>\n",
       "      <td>8.000000</td>\n",
       "      <td>6.000000</td>\n",
       "      <td>512.329200</td>\n",
       "    </tr>\n",
       "  </tbody>\n",
       "</table>\n",
       "</div>"
      ],
      "text/plain": [
       "       PassengerId    Survived      Pclass         Age       SibSp  \\\n",
       "count   891.000000  891.000000  891.000000  714.000000  891.000000   \n",
       "mean    446.000000    0.383838    2.308642   29.699118    0.523008   \n",
       "std     257.353842    0.486592    0.836071   14.526497    1.102743   \n",
       "min       1.000000    0.000000    1.000000    0.420000    0.000000   \n",
       "25%     223.500000    0.000000    2.000000   20.125000    0.000000   \n",
       "50%     446.000000    0.000000    3.000000   28.000000    0.000000   \n",
       "75%     668.500000    1.000000    3.000000   38.000000    1.000000   \n",
       "max     891.000000    1.000000    3.000000   80.000000    8.000000   \n",
       "\n",
       "            Parch        Fare  \n",
       "count  891.000000  891.000000  \n",
       "mean     0.381594   32.204208  \n",
       "std      0.806057   49.693429  \n",
       "min      0.000000    0.000000  \n",
       "25%      0.000000    7.910400  \n",
       "50%      0.000000   14.454200  \n",
       "75%      0.000000   31.000000  \n",
       "max      6.000000  512.329200  "
      ]
     },
     "execution_count": 8,
     "metadata": {},
     "output_type": "execute_result"
    }
   ],
   "source": [
    "df_titanic.describe() "
   ]
  },
  {
   "cell_type": "markdown",
   "metadata": {},
   "source": [
    "Dando update nos valores nulos 'NaN' em 'Cabin' para facilitar o entendimento para o usuário final:"
   ]
  },
  {
   "cell_type": "code",
   "execution_count": 9,
   "metadata": {},
   "outputs": [],
   "source": [
    "df_titanic.update(df_titanic['Cabin'].fillna('Não cadastrado'))"
   ]
  },
  {
   "cell_type": "markdown",
   "metadata": {},
   "source": [
    "Verificando se o método funcionou:"
   ]
  },
  {
   "cell_type": "code",
   "execution_count": 10,
   "metadata": {},
   "outputs": [
    {
     "data": {
      "text/plain": [
       "PassengerId      0\n",
       "Survived         0\n",
       "Pclass           0\n",
       "Name             0\n",
       "Sex              0\n",
       "Age            177\n",
       "SibSp            0\n",
       "Parch            0\n",
       "Ticket           0\n",
       "Fare             0\n",
       "Cabin            0\n",
       "Embarked         2\n",
       "dtype: int64"
      ]
     },
     "execution_count": 10,
     "metadata": {},
     "output_type": "execute_result"
    }
   ],
   "source": [
    "df_titanic.isnull().sum() "
   ]
  },
  {
   "cell_type": "markdown",
   "metadata": {},
   "source": [
    "Utilizando uma função para nomear os portos e facilitar o entendimento da origem dos passageiros:"
   ]
  },
  {
   "cell_type": "code",
   "execution_count": 11,
   "metadata": {},
   "outputs": [],
   "source": [
    "def full_port(port):\n",
    "    if port == \"C\":\n",
    "        return \"Cherbourg\"\n",
    "    elif port == \"Q\":\n",
    "        return \"Queenstown\"\n",
    "    elif port == \"S\":\n",
    "        return \"Southhampton\"\n",
    "    else:\n",
    "        return port \n",
    "df_titanic[\"Embarked\"] = df_titanic[\"Embarked\"].apply(full_port)"
   ]
  },
  {
   "cell_type": "markdown",
   "metadata": {},
   "source": [
    "Utilizando uma função para facilitar o entendimento da classificação dos tickets:"
   ]
  },
  {
   "cell_type": "code",
   "execution_count": 12,
   "metadata": {},
   "outputs": [],
   "source": [
    "def full_class(pclass):\n",
    "    if pclass ==1:\n",
    "        return \"Upper\"\n",
    "    elif pclass ==2:\n",
    "        return \"Middle\"\n",
    "    elif pclass ==3:\n",
    "        return \"Lower\"\n",
    "    else:\n",
    "        return pclass\n",
    "df_titanic[\"Pclass\"] = df_titanic[\"Pclass\"].apply(full_class)"
   ]
  },
  {
   "cell_type": "markdown",
   "metadata": {},
   "source": [
    "## 3) Exploration:"
   ]
  },
  {
   "cell_type": "markdown",
   "metadata": {},
   "source": [
    "Ex: Existem alguns fatores que podem ter influenciado na sobrevivência dos passageiros?\n",
    "Para isso, iremos criar um novo dataframe para analisar separadamente os sobreviventes:"
   ]
  },
  {
   "cell_type": "code",
   "execution_count": 13,
   "metadata": {
    "scrolled": false
   },
   "outputs": [
    {
     "data": {
      "text/html": [
       "<div>\n",
       "<style scoped>\n",
       "    .dataframe tbody tr th:only-of-type {\n",
       "        vertical-align: middle;\n",
       "    }\n",
       "\n",
       "    .dataframe tbody tr th {\n",
       "        vertical-align: top;\n",
       "    }\n",
       "\n",
       "    .dataframe thead th {\n",
       "        text-align: right;\n",
       "    }\n",
       "</style>\n",
       "<table border=\"1\" class=\"dataframe\">\n",
       "  <thead>\n",
       "    <tr style=\"text-align: right;\">\n",
       "      <th></th>\n",
       "      <th>PassengerId</th>\n",
       "      <th>Survived</th>\n",
       "      <th>Pclass</th>\n",
       "      <th>Name</th>\n",
       "      <th>Sex</th>\n",
       "      <th>Age</th>\n",
       "      <th>SibSp</th>\n",
       "      <th>Parch</th>\n",
       "      <th>Ticket</th>\n",
       "      <th>Fare</th>\n",
       "      <th>Cabin</th>\n",
       "      <th>Embarked</th>\n",
       "    </tr>\n",
       "  </thead>\n",
       "  <tbody>\n",
       "    <tr>\n",
       "      <th>1</th>\n",
       "      <td>2</td>\n",
       "      <td>1</td>\n",
       "      <td>Upper</td>\n",
       "      <td>Cumings, Mrs. John Bradley (Florence Briggs Th...</td>\n",
       "      <td>female</td>\n",
       "      <td>38.0</td>\n",
       "      <td>1</td>\n",
       "      <td>0</td>\n",
       "      <td>PC 17599</td>\n",
       "      <td>71.2833</td>\n",
       "      <td>C85</td>\n",
       "      <td>Cherbourg</td>\n",
       "    </tr>\n",
       "    <tr>\n",
       "      <th>2</th>\n",
       "      <td>3</td>\n",
       "      <td>1</td>\n",
       "      <td>Lower</td>\n",
       "      <td>Heikkinen, Miss. Laina</td>\n",
       "      <td>female</td>\n",
       "      <td>26.0</td>\n",
       "      <td>0</td>\n",
       "      <td>0</td>\n",
       "      <td>STON/O2. 3101282</td>\n",
       "      <td>7.9250</td>\n",
       "      <td>Não cadastrado</td>\n",
       "      <td>Southhampton</td>\n",
       "    </tr>\n",
       "    <tr>\n",
       "      <th>3</th>\n",
       "      <td>4</td>\n",
       "      <td>1</td>\n",
       "      <td>Upper</td>\n",
       "      <td>Futrelle, Mrs. Jacques Heath (Lily May Peel)</td>\n",
       "      <td>female</td>\n",
       "      <td>35.0</td>\n",
       "      <td>1</td>\n",
       "      <td>0</td>\n",
       "      <td>113803</td>\n",
       "      <td>53.1000</td>\n",
       "      <td>C123</td>\n",
       "      <td>Southhampton</td>\n",
       "    </tr>\n",
       "    <tr>\n",
       "      <th>8</th>\n",
       "      <td>9</td>\n",
       "      <td>1</td>\n",
       "      <td>Lower</td>\n",
       "      <td>Johnson, Mrs. Oscar W (Elisabeth Vilhelmina Berg)</td>\n",
       "      <td>female</td>\n",
       "      <td>27.0</td>\n",
       "      <td>0</td>\n",
       "      <td>2</td>\n",
       "      <td>347742</td>\n",
       "      <td>11.1333</td>\n",
       "      <td>Não cadastrado</td>\n",
       "      <td>Southhampton</td>\n",
       "    </tr>\n",
       "    <tr>\n",
       "      <th>9</th>\n",
       "      <td>10</td>\n",
       "      <td>1</td>\n",
       "      <td>Middle</td>\n",
       "      <td>Nasser, Mrs. Nicholas (Adele Achem)</td>\n",
       "      <td>female</td>\n",
       "      <td>14.0</td>\n",
       "      <td>1</td>\n",
       "      <td>0</td>\n",
       "      <td>237736</td>\n",
       "      <td>30.0708</td>\n",
       "      <td>Não cadastrado</td>\n",
       "      <td>Cherbourg</td>\n",
       "    </tr>\n",
       "  </tbody>\n",
       "</table>\n",
       "</div>"
      ],
      "text/plain": [
       "   PassengerId  Survived  Pclass  \\\n",
       "1            2         1   Upper   \n",
       "2            3         1   Lower   \n",
       "3            4         1   Upper   \n",
       "8            9         1   Lower   \n",
       "9           10         1  Middle   \n",
       "\n",
       "                                                Name     Sex   Age  SibSp  \\\n",
       "1  Cumings, Mrs. John Bradley (Florence Briggs Th...  female  38.0      1   \n",
       "2                             Heikkinen, Miss. Laina  female  26.0      0   \n",
       "3       Futrelle, Mrs. Jacques Heath (Lily May Peel)  female  35.0      1   \n",
       "8  Johnson, Mrs. Oscar W (Elisabeth Vilhelmina Berg)  female  27.0      0   \n",
       "9                Nasser, Mrs. Nicholas (Adele Achem)  female  14.0      1   \n",
       "\n",
       "   Parch            Ticket     Fare           Cabin      Embarked  \n",
       "1      0          PC 17599  71.2833             C85     Cherbourg  \n",
       "2      0  STON/O2. 3101282   7.9250  Não cadastrado  Southhampton  \n",
       "3      0            113803  53.1000            C123  Southhampton  \n",
       "8      2            347742  11.1333  Não cadastrado  Southhampton  \n",
       "9      0            237736  30.0708  Não cadastrado     Cherbourg  "
      ]
     },
     "execution_count": 13,
     "metadata": {},
     "output_type": "execute_result"
    }
   ],
   "source": [
    "df_alive = df_titanic[df_titanic['Survived']==1]\n",
    "df_alive.head()"
   ]
  },
  {
   "cell_type": "markdown",
   "metadata": {},
   "source": [
    "Algumas estatísticas sobre o dataset dos sobreviventes:"
   ]
  },
  {
   "cell_type": "code",
   "execution_count": 14,
   "metadata": {
    "scrolled": true
   },
   "outputs": [
    {
     "data": {
      "text/html": [
       "<div>\n",
       "<style scoped>\n",
       "    .dataframe tbody tr th:only-of-type {\n",
       "        vertical-align: middle;\n",
       "    }\n",
       "\n",
       "    .dataframe tbody tr th {\n",
       "        vertical-align: top;\n",
       "    }\n",
       "\n",
       "    .dataframe thead th {\n",
       "        text-align: right;\n",
       "    }\n",
       "</style>\n",
       "<table border=\"1\" class=\"dataframe\">\n",
       "  <thead>\n",
       "    <tr style=\"text-align: right;\">\n",
       "      <th></th>\n",
       "      <th>PassengerId</th>\n",
       "      <th>Survived</th>\n",
       "      <th>Age</th>\n",
       "      <th>SibSp</th>\n",
       "      <th>Parch</th>\n",
       "      <th>Fare</th>\n",
       "    </tr>\n",
       "  </thead>\n",
       "  <tbody>\n",
       "    <tr>\n",
       "      <th>count</th>\n",
       "      <td>342.000000</td>\n",
       "      <td>342.0</td>\n",
       "      <td>290.000000</td>\n",
       "      <td>342.000000</td>\n",
       "      <td>342.000000</td>\n",
       "      <td>342.000000</td>\n",
       "    </tr>\n",
       "    <tr>\n",
       "      <th>mean</th>\n",
       "      <td>444.368421</td>\n",
       "      <td>1.0</td>\n",
       "      <td>28.343690</td>\n",
       "      <td>0.473684</td>\n",
       "      <td>0.464912</td>\n",
       "      <td>48.395408</td>\n",
       "    </tr>\n",
       "    <tr>\n",
       "      <th>std</th>\n",
       "      <td>252.358840</td>\n",
       "      <td>0.0</td>\n",
       "      <td>14.950952</td>\n",
       "      <td>0.708688</td>\n",
       "      <td>0.771712</td>\n",
       "      <td>66.596998</td>\n",
       "    </tr>\n",
       "    <tr>\n",
       "      <th>min</th>\n",
       "      <td>2.000000</td>\n",
       "      <td>1.0</td>\n",
       "      <td>0.420000</td>\n",
       "      <td>0.000000</td>\n",
       "      <td>0.000000</td>\n",
       "      <td>0.000000</td>\n",
       "    </tr>\n",
       "    <tr>\n",
       "      <th>25%</th>\n",
       "      <td>250.750000</td>\n",
       "      <td>1.0</td>\n",
       "      <td>19.000000</td>\n",
       "      <td>0.000000</td>\n",
       "      <td>0.000000</td>\n",
       "      <td>12.475000</td>\n",
       "    </tr>\n",
       "    <tr>\n",
       "      <th>50%</th>\n",
       "      <td>439.500000</td>\n",
       "      <td>1.0</td>\n",
       "      <td>28.000000</td>\n",
       "      <td>0.000000</td>\n",
       "      <td>0.000000</td>\n",
       "      <td>26.000000</td>\n",
       "    </tr>\n",
       "    <tr>\n",
       "      <th>75%</th>\n",
       "      <td>651.500000</td>\n",
       "      <td>1.0</td>\n",
       "      <td>36.000000</td>\n",
       "      <td>1.000000</td>\n",
       "      <td>1.000000</td>\n",
       "      <td>57.000000</td>\n",
       "    </tr>\n",
       "    <tr>\n",
       "      <th>max</th>\n",
       "      <td>890.000000</td>\n",
       "      <td>1.0</td>\n",
       "      <td>80.000000</td>\n",
       "      <td>4.000000</td>\n",
       "      <td>5.000000</td>\n",
       "      <td>512.329200</td>\n",
       "    </tr>\n",
       "  </tbody>\n",
       "</table>\n",
       "</div>"
      ],
      "text/plain": [
       "       PassengerId  Survived         Age       SibSp       Parch        Fare\n",
       "count   342.000000     342.0  290.000000  342.000000  342.000000  342.000000\n",
       "mean    444.368421       1.0   28.343690    0.473684    0.464912   48.395408\n",
       "std     252.358840       0.0   14.950952    0.708688    0.771712   66.596998\n",
       "min       2.000000       1.0    0.420000    0.000000    0.000000    0.000000\n",
       "25%     250.750000       1.0   19.000000    0.000000    0.000000   12.475000\n",
       "50%     439.500000       1.0   28.000000    0.000000    0.000000   26.000000\n",
       "75%     651.500000       1.0   36.000000    1.000000    1.000000   57.000000\n",
       "max     890.000000       1.0   80.000000    4.000000    5.000000  512.329200"
      ]
     },
     "execution_count": 14,
     "metadata": {},
     "output_type": "execute_result"
    }
   ],
   "source": [
    "df_alive.describe()"
   ]
  },
  {
   "cell_type": "markdown",
   "metadata": {},
   "source": [
    "- Quantos passageiros sobreviveram? \n",
    "342\n",
    "- Qual era a idade média? Qual era a idade do mais novo e do mais velho a sobreviver?\n",
    "0.42 e 80, respectivamente\n",
    "- Qual era o valor médio gasto em passagens dos sobreviventes?\n",
    "48.40"
   ]
  },
  {
   "cell_type": "markdown",
   "metadata": {},
   "source": [
    "Analisando a % de sobreviventes, por gênero:"
   ]
  },
  {
   "cell_type": "code",
   "execution_count": 15,
   "metadata": {
    "scrolled": false
   },
   "outputs": [
    {
     "data": {
      "text/plain": [
       "<matplotlib.axes._subplots.AxesSubplot at 0x1d8fd724cf8>"
      ]
     },
     "execution_count": 15,
     "metadata": {},
     "output_type": "execute_result"
    },
    {
     "data": {
      "image/png": "[encoded data removed]",
      "text/plain": [
       "<Figure size 432x288 with 1 Axes>"
      ]
     },
     "metadata": {},
     "output_type": "display_data"
    }
   ],
   "source": [
    "df_alive['Sex'].value_counts().plot(kind='pie',autopct='%1.1f%%',colors=('pink','green'),radius=1.,rotatelabels=False, title=\"% of survivors by gender\")                              "
   ]
  },
  {
   "cell_type": "markdown",
   "metadata": {},
   "source": [
    "Analisando a distribuição de idade dos sobreviventes:"
   ]
  },
  {
   "cell_type": "code",
   "execution_count": 16,
   "metadata": {},
   "outputs": [
    {
     "data": {
      "text/plain": [
       "Text(0.5,0,'Age of passengers')"
      ]
     },
     "execution_count": 16,
     "metadata": {},
     "output_type": "execute_result"
    },
    {
     "data": {
      "image/png": "[encoded data removed]",
      "text/plain": [
       "<Figure size 432x288 with 1 Axes>"
      ]
     },
     "metadata": {},
     "output_type": "display_data"
    }
   ],
   "source": [
    "df_alive['Age'].plot(kind='hist', alpha=0.8, color='g')\n",
    "plt.title(\"Distribuition of Passengers'Age\")\n",
    "plt.xlabel(\"Age of passengers\")"
   ]
  },
  {
   "cell_type": "markdown",
   "metadata": {},
   "source": [
    "Analisando a % dos tickets dos sobreviventes:"
   ]
  },
  {
   "cell_type": "code",
   "execution_count": 49,
   "metadata": {},
   "outputs": [
    {
     "data": {
      "text/plain": [
       "<matplotlib.axes._subplots.AxesSubplot at 0x1d8fde06208>"
      ]
     },
     "execution_count": 49,
     "metadata": {},
     "output_type": "execute_result"
    },
    {
     "data": {
      "image/png": "[encoded data removed]",
      "text/plain": [
       "<Figure size 432x288 with 1 Axes>"
      ]
     },
     "metadata": {},
     "output_type": "display_data"
    }
   ],
   "source": [
    "df_pclass = df_alive.groupby('Pclass')['PassengerId'].count()\n",
    "df_pclass.plot(kind='pie',autopct='%1.f%%',radius=0.8,rotatelabels=False, title=\"% of Survivors by Ticket Type (Pclass)\")"
   ]
  },
  {
   "cell_type": "markdown",
   "metadata": {},
   "source": [
    "Analisando a origem de embarcação dos sobreviventes:"
   ]
  },
  {
   "cell_type": "code",
   "execution_count": 18,
   "metadata": {},
   "outputs": [
    {
     "data": {
      "text/plain": [
       "<matplotlib.axes._subplots.AxesSubplot at 0x1d8fd8997f0>"
      ]
     },
     "execution_count": 18,
     "metadata": {},
     "output_type": "execute_result"
    },
    {
     "data": {
      "image/png": "[encoded data removed]",
      "text/plain": [
       "<Figure size 432x288 with 1 Axes>"
      ]
     },
     "metadata": {},
     "output_type": "display_data"
    }
   ],
   "source": [
    "df_embarked = df_alive.groupby('Embarked')['PassengerId'].count()\n",
    "df_embarked.plot(kind='pie',autopct='%1.f%%',radius=1.,rotatelabels=False, title=\"% of survivors by port\")"
   ]
  },
  {
   "cell_type": "markdown",
   "metadata": {},
   "source": [
    "Analisando de forma superficial as características dos sobreviventes:\n",
    "- Maioria do sexo feminino (68,1%);\n",
    "- Maioria estava no range de idade entre 20-35 anos;\n",
    "- Maioria da classificação dos tickets eram do tipo upper(40%) e lower(35%), seguidas de 25% middle)\n",
    "- Maioria embarcou de Southhampton (64%), Cherbourg (27%) e Queenstown (9%) "
   ]
  },
  {
   "cell_type": "markdown",
   "metadata": {},
   "source": [
    "### Question 01: Mais mulheres ou homens sobreviveram ao acidente? Dessa taxa, há algum vínculo com o tipo de ticket adquirido/classe social? "
   ]
  },
  {
   "cell_type": "markdown",
   "metadata": {},
   "source": [
    "Verificando se mais homens ou mulheres que embarcaram sobreviveram ao acidente:"
   ]
  },
  {
   "cell_type": "code",
   "execution_count": 19,
   "metadata": {},
   "outputs": [
    {
     "name": "stdout",
     "output_type": "stream",
     "text": [
      "Survived    0    1\n",
      "Sex               \n",
      "female     81  233\n",
      "male      468  109\n"
     ]
    },
    {
     "data": {
      "text/plain": [
       "Survived  Sex   \n",
       "0         female     81\n",
       "          male      468\n",
       "1         female    233\n",
       "          male      109\n",
       "dtype: int64"
      ]
     },
     "execution_count": 19,
     "metadata": {},
     "output_type": "execute_result"
    },
    {
     "data": {
      "image/png": "[encoded data removed]",
      "text/plain": [
       "<Figure size 360x288 with 1 Axes>"
      ]
     },
     "metadata": {},
     "output_type": "display_data"
    }
   ],
   "source": [
    "tabela = pd.pivot_table(data=df_titanic, values='PassengerId', index='Sex',columns='Survived',aggfunc = 'count')\n",
    "print(tabela)\n",
    "tabela.plot(kind='bar', color=['red','blue'], alpha=0.6, title='Number of survivors by sex',figsize=(5,4))\n",
    "\n",
    "#outro formato de fazer:\n",
    "df_titanic.groupby(['Survived','Sex']).size()"
   ]
  },
  {
   "cell_type": "markdown",
   "metadata": {},
   "source": [
    "#### É possível verificar que mais mulheres sobreviveram ao acidente, em número absoluto (233) e proporção (233 sobreviventes de 314 que embarcaram, ou seja, 74% das mulheres que embarcaram sobreviveram ao acidente.)  \n",
    "\n",
    "Vamos verificar se há alguma relação entre a sobrevivência com as condições sociais."
   ]
  },
  {
   "cell_type": "markdown",
   "metadata": {},
   "source": [
    "Investigando o número de sobreviventes por classe social:"
   ]
  },
  {
   "cell_type": "code",
   "execution_count": 20,
   "metadata": {},
   "outputs": [
    {
     "data": {
      "text/plain": [
       "Text(0,0.5,'Fare')"
      ]
     },
     "execution_count": 20,
     "metadata": {},
     "output_type": "execute_result"
    },
    {
     "data": {
      "image/png": "[encoded data removed]",
      "text/plain": [
       "<Figure size 432x288 with 1 Axes>"
      ]
     },
     "metadata": {},
     "output_type": "display_data"
    }
   ],
   "source": [
    "Fare = pd.pivot_table(data=df_titanic, values='Fare', index='Pclass',columns='Survived',aggfunc = 'count')\n",
    "Fare.plot(kind='bar', color=['red','green'],alpha=.7)\n",
    "plt.title('Survivors by Pclass')\n",
    "plt.xlabel('Pclass')\n",
    "plt.ylabel('Fare')"
   ]
  },
  {
   "cell_type": "markdown",
   "metadata": {},
   "source": [
    "É possível visualizar que a proporção (%) de sobreviventes aumenta conforme a classe do ticket (pclass)"
   ]
  },
  {
   "cell_type": "markdown",
   "metadata": {},
   "source": [
    "Analisando a média gasta com cada tipo de passagem:"
   ]
  },
  {
   "cell_type": "code",
   "execution_count": 51,
   "metadata": {},
   "outputs": [
    {
     "data": {
      "text/plain": [
       "Text(0,0.5,'Survivors')"
      ]
     },
     "execution_count": 51,
     "metadata": {},
     "output_type": "execute_result"
    },
    {
     "data": {
      "image/png": "[encoded data removed]",
      "text/plain": [
       "<Figure size 432x288 with 1 Axes>"
      ]
     },
     "metadata": {},
     "output_type": "display_data"
    }
   ],
   "source": [
    "ticket_class = pd.pivot_table(data=df_titanic, values='Fare', index='Pclass',columns='Survived',aggfunc = 'count')\n",
    "ticket_class.plot(kind='bar', color=['red','green'],alpha=.7)\n",
    "plt.title('Number of Survivors by Pclass')\n",
    "plt.xlabel('Pclass')\n",
    "plt.ylabel('Survivors')"
   ]
  },
  {
   "cell_type": "markdown",
   "metadata": {},
   "source": [
    "Investigando a média de valores dos tipos das passagens:"
   ]
  },
  {
   "cell_type": "code",
   "execution_count": 53,
   "metadata": {},
   "outputs": [
    {
     "data": {
      "text/plain": [
       "Text(0,0.5,'Average Fare')"
      ]
     },
     "execution_count": 53,
     "metadata": {},
     "output_type": "execute_result"
    },
    {
     "data": {
      "image/png": "[encoded data removed]",
      "text/plain": [
       "<Figure size 432x288 with 1 Axes>"
      ]
     },
     "metadata": {},
     "output_type": "display_data"
    }
   ],
   "source": [
    "ticket_class = pd.pivot_table(data=df_titanic, values='Fare', index='Pclass',columns='Survived',aggfunc = 'mean')\n",
    "ticket_class.plot(kind='bar', color=['red','green'],alpha=.7)\n",
    "plt.title('Average Survivor\\'s Fare by Pclass')\n",
    "plt.xlabel('Pclass')\n",
    "plt.ylabel('Average Fare')"
   ]
  },
  {
   "cell_type": "markdown",
   "metadata": {},
   "source": [
    "Analisando a distribuição do preço das passagens dos sobreviventes:"
   ]
  },
  {
   "cell_type": "code",
   "execution_count": 54,
   "metadata": {},
   "outputs": [
    {
     "data": {
      "text/plain": [
       "Text(0.5,0,'Fare')"
      ]
     },
     "execution_count": 54,
     "metadata": {},
     "output_type": "execute_result"
    },
    {
     "data": {
      "image/png": "[encoded data removed]",
      "text/plain": [
       "<Figure size 432x288 with 1 Axes>"
      ]
     },
     "metadata": {},
     "output_type": "display_data"
    }
   ],
   "source": [
    "df_alive['Fare'].plot(kind='hist',color='green',bins=range(0,550,10), title=\"Distribution of ticket fares\",alpha=.7)\n",
    "plt.xlabel('Fare')"
   ]
  },
  {
   "cell_type": "markdown",
   "metadata": {},
   "source": [
    "Criando uma função para verificar a % de sobrevivência, considerando o sexo e classe social:"
   ]
  },
  {
   "cell_type": "code",
   "execution_count": 24,
   "metadata": {},
   "outputs": [],
   "source": [
    "def survival_rate(pclass, sex):\n",
    "#    Args:\n",
    "#        pclass: Lower, Middle ou Upper\n",
    "#        sex: male or female\n",
    "#    Returns:\n",
    "#        survival rate as percentage\n",
    "\n",
    "    grouped_by_total = df_titanic.groupby(['Pclass', 'Sex']).size()[pclass,sex]\n",
    "    grouped_by_survived = df_titanic.groupby(['Pclass','Survived','Sex']).size()[pclass,1,sex]\n",
    "    print(grouped_by_survived)\n",
    "    print(grouped_by_total)\n",
    "    survived_pct = (grouped_by_survived / grouped_by_total * 100).round(2)\n",
    "    \n",
    "    return survived_pct "
   ]
  },
  {
   "cell_type": "markdown",
   "metadata": {},
   "source": [
    "Algumas análises sobre as pessoas que sobreviveram:"
   ]
  },
  {
   "cell_type": "code",
   "execution_count": 25,
   "metadata": {},
   "outputs": [
    {
     "name": "stdout",
     "output_type": "stream",
     "text": [
      "72\n",
      "144\n",
      "Classe Lower e Sexo F: 50.0% \n",
      "\n",
      "70\n",
      "76\n",
      "Classe Middle e Sexo F: 92.11% \n",
      "\n",
      "91\n",
      "94\n",
      "Classe Upper e Sexo F: 96.81% \n",
      "\n",
      "47\n",
      "347\n",
      "\n",
      "Classe Lower e Sexo M: 13.54% \n",
      "\n",
      "17\n",
      "108\n",
      "Classe Middle e Sexo M: 15.74% \n",
      "\n",
      "45\n",
      "122\n",
      "Classe Upper e Sexo M: 36.89% \n",
      "\n"
     ]
    }
   ],
   "source": [
    "print(\"Classe Lower e Sexo F: {}% \\n\".format(survival_rate('Lower','female')))\n",
    "print(\"Classe Middle e Sexo F: {}% \\n\".format(survival_rate('Middle','female')))\n",
    "print(\"Classe Upper e Sexo F: {}% \\n\".format(survival_rate('Upper','female')))\n",
    "\n",
    "print(\"\\nClasse Lower e Sexo M: {}% \\n\".format(survival_rate('Lower','male')))\n",
    "print(\"Classe Middle e Sexo M: {}% \\n\".format(survival_rate('Middle','male')))\n",
    "print(\"Classe Upper e Sexo M: {}% \\n\".format(survival_rate('Upper','male')))                                                                              "
   ]
  },
  {
   "cell_type": "markdown",
   "metadata": {},
   "source": [
    "#### Analisando por essas variáveis, é possível notar que quanto maior a classe do ticket (pclass), maior a % de sobrevivência, de ambos os gêneros."
   ]
  },
  {
   "cell_type": "markdown",
   "metadata": {},
   "source": [
    "### Question 02: Há alguma relação entre a idade com a sobrevivência dos passageiros?"
   ]
  },
  {
   "cell_type": "markdown",
   "metadata": {},
   "source": [
    "Analisando um gráfico com o número de sobreviventes:"
   ]
  },
  {
   "cell_type": "code",
   "execution_count": 26,
   "metadata": {},
   "outputs": [
    {
     "data": {
      "text/plain": [
       "Text(0.5,0,'Age')"
      ]
     },
     "execution_count": 26,
     "metadata": {},
     "output_type": "execute_result"
    },
    {
     "data": {
      "image/png": "[encoded data removed]",
      "text/plain": [
       "<Figure size 432x288 with 1 Axes>"
      ]
     },
     "metadata": {},
     "output_type": "display_data"
    }
   ],
   "source": [
    "df_alive['Age'].plot(kind='hist',color='purple',alpha=0.5)\n",
    "plt.title('Number of Survivors by Age')\n",
    "plt.xlabel('Age')"
   ]
  },
  {
   "cell_type": "markdown",
   "metadata": {},
   "source": [
    "O gráfico de histograma mostra que a maior quantidade dos sobreviventes, em número absoluto, possuíam em torno de 20-30 anos, porém não é possível visualizar qual o percentual de sobreviventes por idade. Dessa forma, é conveniente criar uma função para analisar cada range de idade:"
   ]
  },
  {
   "cell_type": "code",
   "execution_count": 27,
   "metadata": {},
   "outputs": [],
   "source": [
    "def survival_age(age1, age2):\n",
    "# Args:\n",
    "# age1,age2: range de idades\n",
    "# Returns: número de pessoas que embarcaram, sobreviveram e a % de sobrevivência do range fornecido\n",
    "    \n",
    "    df_age = df_alive[(df_alive[\"Age\"]>age1) & (df_alive[\"Age\"]<=age2)]\n",
    "    df_age_titanic = df_titanic[(df_titanic[\"Age\"]>age1) & (df_titanic[\"Age\"]<=age2)]\n",
    "    \n",
    "    print (\"Sobreviveram {} pessoas entre {} e {} anos.\".format(df_age['Age'].count(),age1,age2))\n",
    "    print (\"Embarcaram {} pessoas entre {} e {} anos.\".format(df_age_titanic['Age'].count(),age1,age2))\n",
    "    \n",
    "    age_pct = df_age['Age'].count() / df_age_titanic['Age'].count()     \n",
    "    return \"Survival rate(%): {}\".format(round(age_pct*100,2))"
   ]
  },
  {
   "cell_type": "markdown",
   "metadata": {},
   "source": [
    "Para analisar cada range, vamos segmentar nossa classificação em 4 grupos:\n",
    "- Até 18 anos (crianças e adolescentes)\n",
    "- 19-40 (jovens adultos)\n",
    "- 41-60 (adultos)\n",
    "- 61+ (idosos)"
   ]
  },
  {
   "cell_type": "markdown",
   "metadata": {},
   "source": [
    "1) Verificando a taxa de sobrevivência de crianças e adolescentes:"
   ]
  },
  {
   "cell_type": "code",
   "execution_count": 28,
   "metadata": {
    "scrolled": false
   },
   "outputs": [
    {
     "name": "stdout",
     "output_type": "stream",
     "text": [
      "Sobreviveram 70 pessoas entre 0 e 18 anos.\n",
      "Embarcaram 139 pessoas entre 0 e 18 anos.\n"
     ]
    },
    {
     "data": {
      "text/plain": [
       "'Survival rate(%): 50.36'"
      ]
     },
     "execution_count": 28,
     "metadata": {},
     "output_type": "execute_result"
    }
   ],
   "source": [
    "survival_age(0,18)"
   ]
  },
  {
   "cell_type": "markdown",
   "metadata": {},
   "source": [
    "2) Verificando a taxa de sobrevivência de jovens adultos:"
   ]
  },
  {
   "cell_type": "code",
   "execution_count": 29,
   "metadata": {},
   "outputs": [
    {
     "name": "stdout",
     "output_type": "stream",
     "text": [
      "Sobreviveram 165 pessoas entre 18 e 40 anos.\n",
      "Embarcaram 425 pessoas entre 18 e 40 anos.\n"
     ]
    },
    {
     "data": {
      "text/plain": [
       "'Survival rate(%): 38.82'"
      ]
     },
     "execution_count": 29,
     "metadata": {},
     "output_type": "execute_result"
    }
   ],
   "source": [
    "survival_age(18,40)"
   ]
  },
  {
   "cell_type": "markdown",
   "metadata": {},
   "source": [
    "3) Verificando a taxa de sobrevivência de adultos:"
   ]
  },
  {
   "cell_type": "code",
   "execution_count": 30,
   "metadata": {},
   "outputs": [
    {
     "name": "stdout",
     "output_type": "stream",
     "text": [
      "Sobreviveram 50 pessoas entre 40 e 60 anos.\n",
      "Embarcaram 128 pessoas entre 40 e 60 anos.\n"
     ]
    },
    {
     "data": {
      "text/plain": [
       "'Survival rate(%): 39.06'"
      ]
     },
     "execution_count": 30,
     "metadata": {},
     "output_type": "execute_result"
    }
   ],
   "source": [
    "survival_age(40,60)"
   ]
  },
  {
   "cell_type": "markdown",
   "metadata": {},
   "source": [
    "4) Verificando a taxa de sobrevivência de idosos:"
   ]
  },
  {
   "cell_type": "code",
   "execution_count": 31,
   "metadata": {},
   "outputs": [
    {
     "name": "stdout",
     "output_type": "stream",
     "text": [
      "Sobreviveram 5 pessoas entre 60 e 100 anos.\n",
      "Embarcaram 22 pessoas entre 60 e 100 anos.\n"
     ]
    },
    {
     "data": {
      "text/plain": [
       "'Survival rate(%): 22.73'"
      ]
     },
     "execution_count": 31,
     "metadata": {},
     "output_type": "execute_result"
    }
   ],
   "source": [
    "survival_age(60,100)"
   ]
  },
  {
   "cell_type": "markdown",
   "metadata": {},
   "source": [
    "Apesar do número absoluto de sobreviventes ser maior na faixa dos 30 anos, a maior proporção de sobreviventes foi de crianças e adolescentes (50%), seguida de adultos (40-60 anos) e jovens adultos(18-40). \n",
    "Dessa forma, uma possibilidade seria que deram prioridade às crianças e adolescentes no salvamento."
   ]
  },
  {
   "cell_type": "markdown",
   "metadata": {},
   "source": [
    "Verificando algumas relações entre o Sexo, Tipo do Ticket com a Idade dos sobreviventes:"
   ]
  },
  {
   "cell_type": "code",
   "execution_count": 32,
   "metadata": {},
   "outputs": [
    {
     "data": {
      "text/html": [
       "<div>\n",
       "<style scoped>\n",
       "    .dataframe tbody tr th:only-of-type {\n",
       "        vertical-align: middle;\n",
       "    }\n",
       "\n",
       "    .dataframe tbody tr th {\n",
       "        vertical-align: top;\n",
       "    }\n",
       "\n",
       "    .dataframe thead th {\n",
       "        text-align: right;\n",
       "    }\n",
       "</style>\n",
       "<table border=\"1\" class=\"dataframe\">\n",
       "  <thead>\n",
       "    <tr style=\"text-align: right;\">\n",
       "      <th></th>\n",
       "      <th></th>\n",
       "      <th></th>\n",
       "      <th>count</th>\n",
       "      <th>mean</th>\n",
       "      <th>std</th>\n",
       "      <th>min</th>\n",
       "      <th>25%</th>\n",
       "      <th>50%</th>\n",
       "      <th>75%</th>\n",
       "      <th>max</th>\n",
       "    </tr>\n",
       "    <tr>\n",
       "      <th>Sex</th>\n",
       "      <th>Pclass</th>\n",
       "      <th>Survived</th>\n",
       "      <th></th>\n",
       "      <th></th>\n",
       "      <th></th>\n",
       "      <th></th>\n",
       "      <th></th>\n",
       "      <th></th>\n",
       "      <th></th>\n",
       "      <th></th>\n",
       "    </tr>\n",
       "  </thead>\n",
       "  <tbody>\n",
       "    <tr>\n",
       "      <th rowspan=\"6\" valign=\"top\">female</th>\n",
       "      <th rowspan=\"2\" valign=\"top\">Lower</th>\n",
       "      <th>0</th>\n",
       "      <td>55.0</td>\n",
       "      <td>23.818182</td>\n",
       "      <td>12.833465</td>\n",
       "      <td>2.00</td>\n",
       "      <td>15.25</td>\n",
       "      <td>22.0</td>\n",
       "      <td>31.00</td>\n",
       "      <td>48.0</td>\n",
       "    </tr>\n",
       "    <tr>\n",
       "      <th>1</th>\n",
       "      <td>47.0</td>\n",
       "      <td>19.329787</td>\n",
       "      <td>12.303246</td>\n",
       "      <td>0.75</td>\n",
       "      <td>13.50</td>\n",
       "      <td>19.0</td>\n",
       "      <td>26.50</td>\n",
       "      <td>63.0</td>\n",
       "    </tr>\n",
       "    <tr>\n",
       "      <th rowspan=\"2\" valign=\"top\">Middle</th>\n",
       "      <th>0</th>\n",
       "      <td>6.0</td>\n",
       "      <td>36.000000</td>\n",
       "      <td>12.915107</td>\n",
       "      <td>24.00</td>\n",
       "      <td>26.25</td>\n",
       "      <td>32.5</td>\n",
       "      <td>42.50</td>\n",
       "      <td>57.0</td>\n",
       "    </tr>\n",
       "    <tr>\n",
       "      <th>1</th>\n",
       "      <td>68.0</td>\n",
       "      <td>28.080882</td>\n",
       "      <td>12.764693</td>\n",
       "      <td>2.00</td>\n",
       "      <td>21.75</td>\n",
       "      <td>28.0</td>\n",
       "      <td>35.25</td>\n",
       "      <td>55.0</td>\n",
       "    </tr>\n",
       "    <tr>\n",
       "      <th rowspan=\"2\" valign=\"top\">Upper</th>\n",
       "      <th>0</th>\n",
       "      <td>3.0</td>\n",
       "      <td>25.666667</td>\n",
       "      <td>24.006943</td>\n",
       "      <td>2.00</td>\n",
       "      <td>13.50</td>\n",
       "      <td>25.0</td>\n",
       "      <td>37.50</td>\n",
       "      <td>50.0</td>\n",
       "    </tr>\n",
       "    <tr>\n",
       "      <th>1</th>\n",
       "      <td>82.0</td>\n",
       "      <td>34.939024</td>\n",
       "      <td>13.223014</td>\n",
       "      <td>14.00</td>\n",
       "      <td>23.25</td>\n",
       "      <td>35.0</td>\n",
       "      <td>44.00</td>\n",
       "      <td>63.0</td>\n",
       "    </tr>\n",
       "    <tr>\n",
       "      <th rowspan=\"6\" valign=\"top\">male</th>\n",
       "      <th rowspan=\"2\" valign=\"top\">Lower</th>\n",
       "      <th>0</th>\n",
       "      <td>215.0</td>\n",
       "      <td>27.255814</td>\n",
       "      <td>12.135707</td>\n",
       "      <td>1.00</td>\n",
       "      <td>20.00</td>\n",
       "      <td>25.0</td>\n",
       "      <td>34.00</td>\n",
       "      <td>74.0</td>\n",
       "    </tr>\n",
       "    <tr>\n",
       "      <th>1</th>\n",
       "      <td>38.0</td>\n",
       "      <td>22.274211</td>\n",
       "      <td>11.555786</td>\n",
       "      <td>0.42</td>\n",
       "      <td>16.50</td>\n",
       "      <td>25.0</td>\n",
       "      <td>29.75</td>\n",
       "      <td>45.0</td>\n",
       "    </tr>\n",
       "    <tr>\n",
       "      <th rowspan=\"2\" valign=\"top\">Middle</th>\n",
       "      <th>0</th>\n",
       "      <td>84.0</td>\n",
       "      <td>33.369048</td>\n",
       "      <td>12.158125</td>\n",
       "      <td>16.00</td>\n",
       "      <td>24.75</td>\n",
       "      <td>30.5</td>\n",
       "      <td>39.00</td>\n",
       "      <td>70.0</td>\n",
       "    </tr>\n",
       "    <tr>\n",
       "      <th>1</th>\n",
       "      <td>15.0</td>\n",
       "      <td>16.022000</td>\n",
       "      <td>19.547122</td>\n",
       "      <td>0.67</td>\n",
       "      <td>1.00</td>\n",
       "      <td>3.0</td>\n",
       "      <td>31.50</td>\n",
       "      <td>62.0</td>\n",
       "    </tr>\n",
       "    <tr>\n",
       "      <th rowspan=\"2\" valign=\"top\">Upper</th>\n",
       "      <th>0</th>\n",
       "      <td>61.0</td>\n",
       "      <td>44.581967</td>\n",
       "      <td>14.457749</td>\n",
       "      <td>18.00</td>\n",
       "      <td>33.00</td>\n",
       "      <td>45.5</td>\n",
       "      <td>56.00</td>\n",
       "      <td>71.0</td>\n",
       "    </tr>\n",
       "    <tr>\n",
       "      <th>1</th>\n",
       "      <td>40.0</td>\n",
       "      <td>36.248000</td>\n",
       "      <td>14.936744</td>\n",
       "      <td>0.92</td>\n",
       "      <td>27.00</td>\n",
       "      <td>36.0</td>\n",
       "      <td>48.00</td>\n",
       "      <td>80.0</td>\n",
       "    </tr>\n",
       "  </tbody>\n",
       "</table>\n",
       "</div>"
      ],
      "text/plain": [
       "                        count       mean        std    min    25%   50%  \\\n",
       "Sex    Pclass Survived                                                    \n",
       "female Lower  0          55.0  23.818182  12.833465   2.00  15.25  22.0   \n",
       "              1          47.0  19.329787  12.303246   0.75  13.50  19.0   \n",
       "       Middle 0           6.0  36.000000  12.915107  24.00  26.25  32.5   \n",
       "              1          68.0  28.080882  12.764693   2.00  21.75  28.0   \n",
       "       Upper  0           3.0  25.666667  24.006943   2.00  13.50  25.0   \n",
       "              1          82.0  34.939024  13.223014  14.00  23.25  35.0   \n",
       "male   Lower  0         215.0  27.255814  12.135707   1.00  20.00  25.0   \n",
       "              1          38.0  22.274211  11.555786   0.42  16.50  25.0   \n",
       "       Middle 0          84.0  33.369048  12.158125  16.00  24.75  30.5   \n",
       "              1          15.0  16.022000  19.547122   0.67   1.00   3.0   \n",
       "       Upper  0          61.0  44.581967  14.457749  18.00  33.00  45.5   \n",
       "              1          40.0  36.248000  14.936744   0.92  27.00  36.0   \n",
       "\n",
       "                          75%   max  \n",
       "Sex    Pclass Survived               \n",
       "female Lower  0         31.00  48.0  \n",
       "              1         26.50  63.0  \n",
       "       Middle 0         42.50  57.0  \n",
       "              1         35.25  55.0  \n",
       "       Upper  0         37.50  50.0  \n",
       "              1         44.00  63.0  \n",
       "male   Lower  0         34.00  74.0  \n",
       "              1         29.75  45.0  \n",
       "       Middle 0         39.00  70.0  \n",
       "              1         31.50  62.0  \n",
       "       Upper  0         56.00  71.0  \n",
       "              1         48.00  80.0  "
      ]
     },
     "execution_count": 32,
     "metadata": {},
     "output_type": "execute_result"
    }
   ],
   "source": [
    "df_titanic.groupby(['Sex','Pclass','Survived'])['Age'].describe()"
   ]
  },
  {
   "cell_type": "markdown",
   "metadata": {},
   "source": [
    "### Question 03: A maioria das pessoas que sobreviveu viajou sozinha ou acompanhada (família ou cônjugue)?"
   ]
  },
  {
   "cell_type": "markdown",
   "metadata": {},
   "source": [
    "Analisando o agrupamento das pessoas por SibSp, Parch e ambos:"
   ]
  },
  {
   "cell_type": "code",
   "execution_count": 33,
   "metadata": {},
   "outputs": [
    {
     "data": {
      "text/plain": [
       "Survived  SibSp\n",
       "1         0        210\n",
       "          1        112\n",
       "          2         13\n",
       "          3          4\n",
       "          4          3\n",
       "Name: PassengerId, dtype: int64"
      ]
     },
     "execution_count": 33,
     "metadata": {},
     "output_type": "execute_result"
    }
   ],
   "source": [
    "df_alive.groupby(['Survived','SibSp'])['PassengerId'].count()"
   ]
  },
  {
   "cell_type": "code",
   "execution_count": 34,
   "metadata": {},
   "outputs": [
    {
     "data": {
      "text/plain": [
       "Survived  Parch\n",
       "1         0        233\n",
       "          1         65\n",
       "          2         40\n",
       "          3          3\n",
       "          5          1\n",
       "Name: PassengerId, dtype: int64"
      ]
     },
     "execution_count": 34,
     "metadata": {},
     "output_type": "execute_result"
    }
   ],
   "source": [
    "df_alive.groupby(['Survived','Parch'])['PassengerId'].count()"
   ]
  },
  {
   "cell_type": "code",
   "execution_count": 35,
   "metadata": {},
   "outputs": [
    {
     "data": {
      "text/plain": [
       "SibSp  Parch\n",
       "0      0        163\n",
       "       1         25\n",
       "       2         21\n",
       "       3          1\n",
       "1      0         64\n",
       "       1         34\n",
       "       2         12\n",
       "       3          1\n",
       "       5          1\n",
       "2      0          4\n",
       "       1          6\n",
       "       2          2\n",
       "       3          1\n",
       "3      0          2\n",
       "       2          2\n",
       "4      2          3\n",
       "Name: PassengerId, dtype: int64"
      ]
     },
     "execution_count": 35,
     "metadata": {},
     "output_type": "execute_result"
    }
   ],
   "source": [
    "df_alive.groupby(['SibSp','Parch'])['PassengerId'].count()"
   ]
  },
  {
   "cell_type": "markdown",
   "metadata": {},
   "source": [
    "Para analisar se o passageiro viajou acompanhado ou não, SibSp ou Parch devem ser =! de 0.\n",
    "Dessa forma, iremos declarar uma variável para nos auxiliar nesse cálculo:"
   ]
  },
  {
   "cell_type": "code",
   "execution_count": 36,
   "metadata": {},
   "outputs": [],
   "source": [
    "family = np.where((df_titanic['SibSp'] + df_titanic['Parch'])>=1, \"Viajou COM família\", \"Viajou SEM Família\")"
   ]
  },
  {
   "cell_type": "markdown",
   "metadata": {},
   "source": [
    "Analisando as informações das pessoas que embarcaram acompanhadas:"
   ]
  },
  {
   "cell_type": "code",
   "execution_count": 57,
   "metadata": {},
   "outputs": [
    {
     "data": {
      "text/plain": [
       "Text(0,0.5,'number of passengers')"
      ]
     },
     "execution_count": 57,
     "metadata": {},
     "output_type": "execute_result"
    },
    {
     "data": {
      "image/png": "[encoded data removed]",
      "text/plain": [
       "<Figure size 432x288 with 1 Axes>"
      ]
     },
     "metadata": {},
     "output_type": "display_data"
    }
   ],
   "source": [
    "colors = ['green', 'red']\n",
    "x = df_titanic.groupby(family)['Survived'].count().plot(kind='bar',color=colors,alpha = .6)\n",
    "plt.title('Number of passengers\\'s with/no family',fontsize=14)\n",
    "plt.xlabel('type of passenger', fontsize=10)\n",
    "plt.ylabel('number of passengers', fontsize=10)"
   ]
  },
  {
   "cell_type": "markdown",
   "metadata": {},
   "source": [
    "Analisando as informações das pessoas que embarcaram acompanhadas e sobreviveram:"
   ]
  },
  {
   "cell_type": "code",
   "execution_count": 58,
   "metadata": {},
   "outputs": [
    {
     "data": {
      "text/plain": [
       "Text(0,0.5,'number of passengers')"
      ]
     },
     "execution_count": 58,
     "metadata": {},
     "output_type": "execute_result"
    },
    {
     "data": {
      "image/png": "[encoded data removed]",
      "text/plain": [
       "<Figure size 432x288 with 1 Axes>"
      ]
     },
     "metadata": {},
     "output_type": "display_data"
    }
   ],
   "source": [
    "family_alive = np.where((df_alive['SibSp'] + df_alive['Parch'])>=1,\"Viajou COM família\", \"Viajou SEM Família\")\n",
    "\n",
    "#plotando o gráfico\n",
    "colors = ['green', 'red']\n",
    "x = df_alive.groupby(family_alive)['Survived'].count().plot(kind='bar',color=colors,alpha = .6)\n",
    "plt.title('Number of survivor\\'s with/no family',fontsize=14)\n",
    "plt.xlabel('type of passenger', fontsize=10)\n",
    "plt.ylabel('number of passengers', fontsize=10)"
   ]
  },
  {
   "cell_type": "markdown",
   "metadata": {},
   "source": [
    "Embora o número absoluto de pessoas que embarcou sozinha seja maior,  a proporção (%) das pessoas que viajou acompanhada, com família ou cônjugues, foi maior em relação à quem viajou sozinho."
   ]
  },
  {
   "cell_type": "markdown",
   "metadata": {},
   "source": [
    "### Question 04: De quais portos houveram a maior taxa de sobrevivência? "
   ]
  },
  {
   "cell_type": "code",
   "execution_count": 39,
   "metadata": {},
   "outputs": [
    {
     "name": "stdout",
     "output_type": "stream",
     "text": [
      "Survived        0    1\n",
      "Embarked              \n",
      "Cherbourg      75   93\n",
      "Queenstown     47   30\n",
      "Southhampton  427  217\n"
     ]
    },
    {
     "data": {
      "text/plain": [
       "Text(0,0.5,'Number of passengers')"
      ]
     },
     "execution_count": 39,
     "metadata": {},
     "output_type": "execute_result"
    },
    {
     "data": {
      "image/png": "[encoded data removed]",
      "text/plain": [
       "<Figure size 432x288 with 1 Axes>"
      ]
     },
     "metadata": {},
     "output_type": "display_data"
    }
   ],
   "source": [
    "port = pd.pivot_table(data=df_titanic, values='PassengerId', index='Embarked',columns='Survived',aggfunc = 'count')\n",
    "print(port)\n",
    "port.plot(kind='bar', color=['red','green'],alpha=.7)\n",
    "plt.title('Survivors by port')\n",
    "plt.xlabel('Port')\n",
    "plt.ylabel('Number of passengers')"
   ]
  },
  {
   "cell_type": "markdown",
   "metadata": {},
   "source": [
    "Pode-se notar que proporcionalmente as pessoas que embarcaram em Southhampton foram as que mais faleceram no acidente. Vamos verificar agora a proporção dos sobreviventes para cada porto: "
   ]
  },
  {
   "cell_type": "code",
   "execution_count": 40,
   "metadata": {},
   "outputs": [],
   "source": [
    "def survival_port(port):\n",
    "#    Args:\n",
    "#        port: 'Southhampton', 'Cherbourg', 'Queenstown'\n",
    "#    Returns:\n",
    "#        survival rate as percentage\n",
    "\n",
    "    grouped_by_port = df_titanic.groupby(['Embarked']).size()[port]\n",
    "    grouped_by_survived = df_titanic.groupby(['Embarked','Survived']).size()[port,1]\n",
    "    survived_pct = (grouped_by_survived / grouped_by_port * 100).round(2)\n",
    "    print(\"Número de pessoas que sobreviveram:{}\".format(grouped_by_survived))\n",
    "    print(\"Número de pessoas que embarcaram:{}\".format(grouped_by_port))\n",
    "    \n",
    "    return survived_pct "
   ]
  },
  {
   "cell_type": "code",
   "execution_count": 41,
   "metadata": {},
   "outputs": [
    {
     "name": "stdout",
     "output_type": "stream",
     "text": [
      "Número de pessoas que sobreviveram:217\n",
      "Número de pessoas que embarcaram:644\n",
      "A taxa de sobreviventes que embarcaram de Southhampton foi de 33.7%:\n"
     ]
    }
   ],
   "source": [
    "print(\"A taxa de sobreviventes que embarcaram de {} foi de {}%:\".format('Southhampton',survival_port('Southhampton')))"
   ]
  },
  {
   "cell_type": "code",
   "execution_count": 42,
   "metadata": {
    "scrolled": true
   },
   "outputs": [
    {
     "name": "stdout",
     "output_type": "stream",
     "text": [
      "Número de pessoas que sobreviveram:93\n",
      "Número de pessoas que embarcaram:168\n",
      "A taxa de sobreviventes que embarcaram de Cherbourg foi de 55.36%:\n"
     ]
    }
   ],
   "source": [
    "print(\"A taxa de sobreviventes que embarcaram de {} foi de {}%:\".format('Cherbourg',survival_port('Cherbourg')))"
   ]
  },
  {
   "cell_type": "code",
   "execution_count": 43,
   "metadata": {},
   "outputs": [
    {
     "name": "stdout",
     "output_type": "stream",
     "text": [
      "Número de pessoas que sobreviveram:30\n",
      "Número de pessoas que embarcaram:77\n",
      "A taxa de sobreviventes que embarcaram de Queenstown foi de 38.96%:\n"
     ]
    }
   ],
   "source": [
    "print(\"A taxa de sobreviventes que embarcaram de {} foi de {}%:\".format('Queenstown',survival_port('Queenstown')))"
   ]
  },
  {
   "cell_type": "markdown",
   "metadata": {},
   "source": [
    "A maior taxa de sobreviventes foi de Cherbourg, com 55.36%:"
   ]
  },
  {
   "cell_type": "markdown",
   "metadata": {},
   "source": [
    "Analisando o valor dos tickets por porto:"
   ]
  },
  {
   "cell_type": "code",
   "execution_count": 44,
   "metadata": {},
   "outputs": [
    {
     "data": {
      "text/plain": [
       "Text(0,0.5,'Port')"
      ]
     },
     "execution_count": 44,
     "metadata": {},
     "output_type": "execute_result"
    },
    {
     "data": {
      "image/png": "[encoded data removed]",
      "text/plain": [
       "<Figure size 432x288 with 1 Axes>"
      ]
     },
     "metadata": {},
     "output_type": "display_data"
    }
   ],
   "source": [
    "port = pd.pivot_table(df_alive, values=['Fare'], index='Embarked',columns='Pclass',aggfunc = np.mean)\n",
    "port.plot(kind='barh')\n",
    "plt.title('Average Fare by Pclass and Port')\n",
    "plt.xlabel('Average Fare')\n",
    "plt.ylabel('Port')"
   ]
  },
  {
   "cell_type": "code",
   "execution_count": 45,
   "metadata": {},
   "outputs": [
    {
     "data": {
      "text/html": [
       "<div>\n",
       "<style scoped>\n",
       "    .dataframe tbody tr th:only-of-type {\n",
       "        vertical-align: middle;\n",
       "    }\n",
       "\n",
       "    .dataframe tbody tr th {\n",
       "        vertical-align: top;\n",
       "    }\n",
       "\n",
       "    .dataframe thead th {\n",
       "        text-align: right;\n",
       "    }\n",
       "</style>\n",
       "<table border=\"1\" class=\"dataframe\">\n",
       "  <thead>\n",
       "    <tr style=\"text-align: right;\">\n",
       "      <th></th>\n",
       "      <th></th>\n",
       "      <th>Age</th>\n",
       "      <th>Fare</th>\n",
       "    </tr>\n",
       "    <tr>\n",
       "      <th>Embarked</th>\n",
       "      <th>Pclass</th>\n",
       "      <th></th>\n",
       "      <th></th>\n",
       "    </tr>\n",
       "  </thead>\n",
       "  <tbody>\n",
       "    <tr>\n",
       "      <th rowspan=\"3\" valign=\"top\">Cherbourg</th>\n",
       "      <th>Lower</th>\n",
       "      <td>13.940000</td>\n",
       "      <td>13.404668</td>\n",
       "    </tr>\n",
       "    <tr>\n",
       "      <th>Middle</th>\n",
       "      <td>16.875000</td>\n",
       "      <td>25.305100</td>\n",
       "    </tr>\n",
       "    <tr>\n",
       "      <th>Upper</th>\n",
       "      <td>35.905660</td>\n",
       "      <td>116.121754</td>\n",
       "    </tr>\n",
       "    <tr>\n",
       "      <th rowspan=\"3\" valign=\"top\">Queenstown</th>\n",
       "      <th>Lower</th>\n",
       "      <td>19.500000</td>\n",
       "      <td>10.398770</td>\n",
       "    </tr>\n",
       "    <tr>\n",
       "      <th>Middle</th>\n",
       "      <td>30.000000</td>\n",
       "      <td>12.350000</td>\n",
       "    </tr>\n",
       "    <tr>\n",
       "      <th>Upper</th>\n",
       "      <td>33.000000</td>\n",
       "      <td>90.000000</td>\n",
       "    </tr>\n",
       "    <tr>\n",
       "      <th rowspan=\"3\" valign=\"top\">Southhampton</th>\n",
       "      <th>Lower</th>\n",
       "      <td>22.737705</td>\n",
       "      <td>15.131464</td>\n",
       "    </tr>\n",
       "    <tr>\n",
       "      <th>Middle</th>\n",
       "      <td>26.822027</td>\n",
       "      <td>21.926316</td>\n",
       "    </tr>\n",
       "    <tr>\n",
       "      <th>Upper</th>\n",
       "      <td>34.529091</td>\n",
       "      <td>79.750114</td>\n",
       "    </tr>\n",
       "  </tbody>\n",
       "</table>\n",
       "</div>"
      ],
      "text/plain": [
       "                           Age        Fare\n",
       "Embarked     Pclass                       \n",
       "Cherbourg    Lower   13.940000   13.404668\n",
       "             Middle  16.875000   25.305100\n",
       "             Upper   35.905660  116.121754\n",
       "Queenstown   Lower   19.500000   10.398770\n",
       "             Middle  30.000000   12.350000\n",
       "             Upper   33.000000   90.000000\n",
       "Southhampton Lower   22.737705   15.131464\n",
       "             Middle  26.822027   21.926316\n",
       "             Upper   34.529091   79.750114"
      ]
     },
     "execution_count": 45,
     "metadata": {},
     "output_type": "execute_result"
    }
   ],
   "source": [
    "port = pd.pivot_table(df_alive, values=['Age','Fare'], index=['Embarked','Pclass'],aggfunc = np.mean)\n",
    "port"
   ]
  },
  {
   "cell_type": "markdown",
   "metadata": {},
   "source": [
    "É possível visualizar que a média dos preços das passagens de Cherbourg são as mais caras, seguidas de Queenstown e Southhampton. Também é possível notar que a proporção de sobreviventes foi respectivamente nessa ordem (Cherbourg , Queenstown  e Southhampton)"
   ]
  },
  {
   "cell_type": "markdown",
   "metadata": {},
   "source": [
    "## 4) Insights / Overall Conclusions:\n",
    "\n",
    "A partir das análises realizadas, é possível retirar alguns insights de vários ângulos como:\n",
    "\n",
    "GÊNERO (M ou F): \n",
    "- Grande maioria dos sobreviventes era composta por mulheres, tanto em números absolutos quanto em proporção. Há a possibilidade das mulheres possuírem prioridade na operação de salvamento. \n",
    "\n",
    "IDADE\n",
    "- Apesar do número absoluto de sobreviventes ser maior na faixa dos 20-30 anos, a maior proporção* de sobreviventes foi de crianças e adolescentes (50%), seguida de adultos (40-60 anos) e jovens adultos(18-40) Há a possiblidade das crianças e adolescentes possuírem prioridade na operação de salvamento. \n",
    "- *taxa de embarcados x sobreviventes \n",
    "\n",
    "CLASSE DOS TICKETS (Pclass):\n",
    "- Pessoas que possuíam tickets de classe maior (Pclass=Upper), de ambos os gêneros, tiveram o maior % de sobrevivência\n",
    "\n",
    "PORTO DE EMBARCAÇÃO (Embarked):\n",
    "- Apesar do número absoluto de sobreviventes for do porto de Southhampton , a proporção das pessoas que embarcaram do porto de Cherbourg , teve maior índice de sobrevivência.\n",
    "- obs: a média das passagens classes Middle e Upper de Cherbourg foram mais elevadas que as outras  \n",
    "\n",
    "VIAGEM COM/SEM FAMÍLIA:\n",
    "- Maioria das pessoas que viajou acompanhada teve maior % de sobrevivência, o que pode indicar uma priorização do salvamento das famílias\n",
    "\n",
    "\n",
    "\n",
    "### Limitações:\n",
    "Apesar desses insights, possuímos algumas limitações de informações, como informações nulas ou incompletas, o que pode gerar uma distorção de entendimento da realidade.\n",
    "\n",
    "Além disso, analisando apenas os dados sem considerar todo o contexto, pode levar à uma análise equivocada ou incompleta do acontecimento. \n"
   ]
  },
  {
   "cell_type": "markdown",
   "metadata": {},
   "source": [
    "References:\n",
    "- https://github.com\n",
    "- https://github.com/alemosie/titanic-analysis/blob/master/titanic-analysis.ipynb\n",
    "- https://github.com/sagarnildass/Titanic-Data-Analysis/blob/master/Titanic_Data_Analysis.ipynb\n",
    "- https://pandas.pydata.org\n",
    "- http://www.numpy.org/\n",
    "- https://paulovasconcellos.com.br/\n",
    "- http://felipegalvao.com.br\n",
    "- http://minerandodados.com.br\n",
    "- https://stackoverflow.com\n",
    "- https://medium.com\n",
    "- https://pt.wikipedia.org/wiki/RMS_Titanic"
   ]
  }
 ],
 "metadata": {
  "kernelspec": {
   "display_name": "Python 3",
   "language": "python",
   "name": "python3"
  },
  "language_info": {
   "codemirror_mode": {
    "name": "ipython",
    "version": 3
   },
   "file_extension": ".py",
   "mimetype": "text/x-python",
   "name": "python",
   "nbconvert_exporter": "python",
   "pygments_lexer": "ipython3",
   "version": "3.6.6"
  }
 },
 "nbformat": 4,
 "nbformat_minor": 2
}
